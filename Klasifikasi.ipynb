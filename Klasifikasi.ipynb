{
 "cells": [
  {
   "cell_type": "markdown",
   "metadata": {},
   "source": [
    "# **1. Import Library**"
   ]
  },
  {
   "cell_type": "code",
   "execution_count": 206,
   "metadata": {},
   "outputs": [],
   "source": [
    "import pandas as pd\n",
    "import numpy as np\n",
    "import seaborn as sns\n",
    "import matplotlib.pyplot as plt\n",
    "from sklearn.model_selection import train_test_split\n",
    "from sklearn.preprocessing import LabelEncoder\n",
    "from sklearn.neighbors import KNeighborsClassifier\n",
    "from sklearn.tree import DecisionTreeClassifier\n",
    "from sklearn.ensemble import RandomForestClassifier\n",
    "from sklearn.svm import SVC\n",
    "from sklearn.naive_bayes import GaussianNB\n",
    "from sklearn.metrics import confusion_matrix, accuracy_score, precision_score, recall_score, f1_score"
   ]
  },
  {
   "cell_type": "markdown",
   "metadata": {},
   "source": [
    "# **2. Memuat Dataset**"
   ]
  },
  {
   "cell_type": "code",
   "execution_count": 207,
   "metadata": {},
   "outputs": [
    {
     "name": "stdout",
     "output_type": "stream",
     "text": [
      "   Entity  Code       Year  \\\n",
      "0       0     0  1990-1995   \n",
      "1       0     0  1990-1995   \n",
      "2       0     0  1990-1995   \n",
      "3       0     0  1990-1995   \n",
      "4       0     0  1990-1995   \n",
      "\n",
      "   Schizophrenia disorders (share of population) - Sex: Both - Age: Age-standardized  \\\n",
      "0                                           0.223206                                   \n",
      "1                                           0.222454                                   \n",
      "2                                           0.221751                                   \n",
      "3                                           0.220987                                   \n",
      "4                                           0.220183                                   \n",
      "\n",
      "   Depressive disorders (share of population) - Sex: Both - Age: Age-standardized  \\\n",
      "0                                           4.996118                                \n",
      "1                                           4.989290                                \n",
      "2                                           4.981346                                \n",
      "3                                           4.976958                                \n",
      "4                                           4.977782                                \n",
      "\n",
      "   Anxiety disorders (share of population) - Sex: Both - Age: Age-standardized  \\\n",
      "0                                           4.713314                             \n",
      "1                                           4.702100                             \n",
      "2                                           4.683743                             \n",
      "3                                           4.673549                             \n",
      "4                                           4.670810                             \n",
      "\n",
      "   Bipolar disorders (share of population) - Sex: Both - Age: Age-standardized  \\\n",
      "0                                           0.703023                             \n",
      "1                                           0.702069                             \n",
      "2                                           0.700792                             \n",
      "3                                           0.700087                             \n",
      "4                                           0.699898                             \n",
      "\n",
      "   Eating disorders (share of population) - Sex: Both - Age: Age-standardized  \\\n",
      "0                                           0.127700                            \n",
      "1                                           0.123256                            \n",
      "2                                           0.118844                            \n",
      "3                                           0.115089                            \n",
      "4                                           0.111815                            \n",
      "\n",
      "   Cluster  \n",
      "0        0  \n",
      "1        0  \n",
      "2        0  \n",
      "3        0  \n",
      "4        0  \n",
      "Index(['Entity', 'Code', 'Year',\n",
      "       'Schizophrenia disorders (share of population) - Sex: Both - Age: Age-standardized',\n",
      "       'Depressive disorders (share of population) - Sex: Both - Age: Age-standardized',\n",
      "       'Anxiety disorders (share of population) - Sex: Both - Age: Age-standardized',\n",
      "       'Bipolar disorders (share of population) - Sex: Both - Age: Age-standardized',\n",
      "       'Eating disorders (share of population) - Sex: Both - Age: Age-standardized',\n",
      "       'Cluster'],\n",
      "      dtype='object')\n"
     ]
    }
   ],
   "source": [
    "\n",
    "df = pd.read_csv(\"./Dataset_clustering.csv\")\n",
    "\n",
    "print(df.head())\n",
    "\n",
    "print(df.columns)"
   ]
  },
  {
   "cell_type": "code",
   "execution_count": 208,
   "metadata": {},
   "outputs": [
    {
     "name": "stdout",
     "output_type": "stream",
     "text": [
      "\n",
      "Missing values per fitur:\n",
      "Entity                                                                               0\n",
      "Code                                                                                 0\n",
      "Year                                                                                 0\n",
      "Schizophrenia disorders (share of population) - Sex: Both - Age: Age-standardized    0\n",
      "Depressive disorders (share of population) - Sex: Both - Age: Age-standardized       0\n",
      "Anxiety disorders (share of population) - Sex: Both - Age: Age-standardized          0\n",
      "Bipolar disorders (share of population) - Sex: Both - Age: Age-standardized          0\n",
      "Eating disorders (share of population) - Sex: Both - Age: Age-standardized           0\n",
      "Cluster                                                                              0\n",
      "dtype: int64\n"
     ]
    }
   ],
   "source": [
    "print(\"\\nMissing values per fitur:\")\n",
    "print(df.isnull().sum())"
   ]
  },
  {
   "cell_type": "code",
   "execution_count": 209,
   "metadata": {},
   "outputs": [],
   "source": [
    "df.loc[:, 'Code'] = df['Code'].fillna('Unknown')"
   ]
  },
  {
   "cell_type": "code",
   "execution_count": 210,
   "metadata": {},
   "outputs": [],
   "source": [
    "encoder = LabelEncoder()\n",
    "\n",
    "categorical_columns = ['Entity', 'Code']\n",
    "\n",
    "for column in categorical_columns:\n",
    "    df[column] = encoder.fit_transform(df[column])"
   ]
  },
  {
   "cell_type": "code",
   "execution_count": 211,
   "metadata": {},
   "outputs": [],
   "source": [
    "df['Cluster'] = df['Cluster'].astype('category')"
   ]
  },
  {
   "cell_type": "code",
   "execution_count": 212,
   "metadata": {},
   "outputs": [
    {
     "data": {
      "text/html": [
       "<div>\n",
       "<style scoped>\n",
       "    .dataframe tbody tr th:only-of-type {\n",
       "        vertical-align: middle;\n",
       "    }\n",
       "\n",
       "    .dataframe tbody tr th {\n",
       "        vertical-align: top;\n",
       "    }\n",
       "\n",
       "    .dataframe thead th {\n",
       "        text-align: right;\n",
       "    }\n",
       "</style>\n",
       "<table border=\"1\" class=\"dataframe\">\n",
       "  <thead>\n",
       "    <tr style=\"text-align: right;\">\n",
       "      <th></th>\n",
       "      <th>Entity</th>\n",
       "      <th>Code</th>\n",
       "      <th>Year</th>\n",
       "      <th>Schizophrenia disorders (share of population) - Sex: Both - Age: Age-standardized</th>\n",
       "      <th>Depressive disorders (share of population) - Sex: Both - Age: Age-standardized</th>\n",
       "      <th>Anxiety disorders (share of population) - Sex: Both - Age: Age-standardized</th>\n",
       "      <th>Bipolar disorders (share of population) - Sex: Both - Age: Age-standardized</th>\n",
       "      <th>Eating disorders (share of population) - Sex: Both - Age: Age-standardized</th>\n",
       "      <th>Cluster</th>\n",
       "    </tr>\n",
       "  </thead>\n",
       "  <tbody>\n",
       "    <tr>\n",
       "      <th>0</th>\n",
       "      <td>0</td>\n",
       "      <td>0</td>\n",
       "      <td>1990-1995</td>\n",
       "      <td>0.223206</td>\n",
       "      <td>4.996118</td>\n",
       "      <td>4.713314</td>\n",
       "      <td>0.703023</td>\n",
       "      <td>0.127700</td>\n",
       "      <td>0</td>\n",
       "    </tr>\n",
       "    <tr>\n",
       "      <th>1</th>\n",
       "      <td>0</td>\n",
       "      <td>0</td>\n",
       "      <td>1990-1995</td>\n",
       "      <td>0.222454</td>\n",
       "      <td>4.989290</td>\n",
       "      <td>4.702100</td>\n",
       "      <td>0.702069</td>\n",
       "      <td>0.123256</td>\n",
       "      <td>0</td>\n",
       "    </tr>\n",
       "    <tr>\n",
       "      <th>2</th>\n",
       "      <td>0</td>\n",
       "      <td>0</td>\n",
       "      <td>1990-1995</td>\n",
       "      <td>0.221751</td>\n",
       "      <td>4.981346</td>\n",
       "      <td>4.683743</td>\n",
       "      <td>0.700792</td>\n",
       "      <td>0.118844</td>\n",
       "      <td>0</td>\n",
       "    </tr>\n",
       "    <tr>\n",
       "      <th>3</th>\n",
       "      <td>0</td>\n",
       "      <td>0</td>\n",
       "      <td>1990-1995</td>\n",
       "      <td>0.220987</td>\n",
       "      <td>4.976958</td>\n",
       "      <td>4.673549</td>\n",
       "      <td>0.700087</td>\n",
       "      <td>0.115089</td>\n",
       "      <td>0</td>\n",
       "    </tr>\n",
       "    <tr>\n",
       "      <th>4</th>\n",
       "      <td>0</td>\n",
       "      <td>0</td>\n",
       "      <td>1990-1995</td>\n",
       "      <td>0.220183</td>\n",
       "      <td>4.977782</td>\n",
       "      <td>4.670810</td>\n",
       "      <td>0.699898</td>\n",
       "      <td>0.111815</td>\n",
       "      <td>0</td>\n",
       "    </tr>\n",
       "  </tbody>\n",
       "</table>\n",
       "</div>"
      ],
      "text/plain": [
       "   Entity  Code       Year  \\\n",
       "0       0     0  1990-1995   \n",
       "1       0     0  1990-1995   \n",
       "2       0     0  1990-1995   \n",
       "3       0     0  1990-1995   \n",
       "4       0     0  1990-1995   \n",
       "\n",
       "   Schizophrenia disorders (share of population) - Sex: Both - Age: Age-standardized  \\\n",
       "0                                           0.223206                                   \n",
       "1                                           0.222454                                   \n",
       "2                                           0.221751                                   \n",
       "3                                           0.220987                                   \n",
       "4                                           0.220183                                   \n",
       "\n",
       "   Depressive disorders (share of population) - Sex: Both - Age: Age-standardized  \\\n",
       "0                                           4.996118                                \n",
       "1                                           4.989290                                \n",
       "2                                           4.981346                                \n",
       "3                                           4.976958                                \n",
       "4                                           4.977782                                \n",
       "\n",
       "   Anxiety disorders (share of population) - Sex: Both - Age: Age-standardized  \\\n",
       "0                                           4.713314                             \n",
       "1                                           4.702100                             \n",
       "2                                           4.683743                             \n",
       "3                                           4.673549                             \n",
       "4                                           4.670810                             \n",
       "\n",
       "   Bipolar disorders (share of population) - Sex: Both - Age: Age-standardized  \\\n",
       "0                                           0.703023                             \n",
       "1                                           0.702069                             \n",
       "2                                           0.700792                             \n",
       "3                                           0.700087                             \n",
       "4                                           0.699898                             \n",
       "\n",
       "   Eating disorders (share of population) - Sex: Both - Age: Age-standardized  \\\n",
       "0                                           0.127700                            \n",
       "1                                           0.123256                            \n",
       "2                                           0.118844                            \n",
       "3                                           0.115089                            \n",
       "4                                           0.111815                            \n",
       "\n",
       "  Cluster  \n",
       "0       0  \n",
       "1       0  \n",
       "2       0  \n",
       "3       0  \n",
       "4       0  "
      ]
     },
     "execution_count": 212,
     "metadata": {},
     "output_type": "execute_result"
    }
   ],
   "source": [
    "df.head()"
   ]
  },
  {
   "cell_type": "markdown",
   "metadata": {},
   "source": [
    "# **3. Data Splitting**"
   ]
  },
  {
   "cell_type": "code",
   "execution_count": 213,
   "metadata": {},
   "outputs": [
    {
     "name": "stdout",
     "output_type": "stream",
     "text": [
      "Training set shape: X_train=(5136, 7), y_train=(5136,)\n",
      "Test set shape: X_test=(1284, 7), y_test=(1284,)\n"
     ]
    }
   ],
   "source": [
    "from sklearn.preprocessing import MinMaxScaler\n",
    "\n",
    "scaler = MinMaxScaler()\n",
    "\n",
    "numeric_columns = df.select_dtypes(include=['int64', 'float64']).columns\n",
    "\n",
    "df[numeric_columns] = scaler.fit_transform(df[numeric_columns])\n",
    "\n",
    "target_column = 'Cluster'\n",
    "X = df.drop(columns=[target_column, \"Year\"])\n",
    "y = df[target_column]\n",
    "\n",
    "X_train, X_test, y_train, y_test = train_test_split(X, y, test_size=0.2, random_state=42)\n",
    "\n",
    "print(f\"Training set shape: X_train={X_train.shape}, y_train={y_train.shape}\")\n",
    "print(f\"Test set shape: X_test={X_test.shape}, y_test={y_test.shape}\")"
   ]
  },
  {
   "cell_type": "markdown",
   "metadata": {},
   "source": [
    "# **4. Membangun Model Klasifikasi**\n"
   ]
  },
  {
   "cell_type": "markdown",
   "metadata": {},
   "source": [
    "## **a. Membangun Model Klasifikasi**"
   ]
  },
  {
   "cell_type": "code",
   "execution_count": 214,
   "metadata": {},
   "outputs": [
    {
     "name": "stdout",
     "output_type": "stream",
     "text": [
      "Model training selesai.\n"
     ]
    }
   ],
   "source": [
    "\n",
    "knn = KNeighborsClassifier().fit(X_train, y_train)\n",
    "dt = DecisionTreeClassifier(random_state=42).fit(X_train, y_train)\n",
    "rf = RandomForestClassifier(n_estimators=100, random_state=42).fit(X_train, y_train)\n",
    "svm = SVC(kernel='linear', probability=True, random_state=42).fit(X_train, y_train)\n",
    "nb = GaussianNB().fit(X_train, y_train)\n",
    "\n",
    "print(\"Model training selesai.\")"
   ]
  },
  {
   "cell_type": "markdown",
   "metadata": {},
   "source": [
    "## **b. Evaluasi Model Klasifikasi**"
   ]
  },
  {
   "cell_type": "code",
   "execution_count": 215,
   "metadata": {},
   "outputs": [
    {
     "data": {
      "image/png": "[encoded data removed]",
      "text/plain": [
       "<Figure size 500x400 with 2 Axes>"
      ]
     },
     "metadata": {},
     "output_type": "display_data"
    },
    {
     "name": "stdout",
     "output_type": "stream",
     "text": [
      "Classification Report for K-Nearest Neighbors (KNN):\n",
      "               precision    recall  f1-score   support\n",
      "\n",
      "           0       0.98      0.99      0.99       430\n",
      "           1       0.99      0.99      0.99       241\n",
      "           2       1.00      0.99      1.00       613\n",
      "\n",
      "    accuracy                           0.99      1284\n",
      "   macro avg       0.99      0.99      0.99      1284\n",
      "weighted avg       0.99      0.99      0.99      1284\n",
      "\n"
     ]
    },
    {
     "data": {
      "image/png": "[encoded data removed]",
      "text/plain": [
       "<Figure size 500x400 with 2 Axes>"
      ]
     },
     "metadata": {},
     "output_type": "display_data"
    },
    {
     "name": "stdout",
     "output_type": "stream",
     "text": [
      "Classification Report for Decision Tree (DT):\n",
      "               precision    recall  f1-score   support\n",
      "\n",
      "           0       0.99      0.99      0.99       430\n",
      "           1       1.00      1.00      1.00       241\n",
      "           2       1.00      1.00      1.00       613\n",
      "\n",
      "    accuracy                           0.99      1284\n",
      "   macro avg       0.99      0.99      0.99      1284\n",
      "weighted avg       0.99      0.99      0.99      1284\n",
      "\n"
     ]
    },
    {
     "data": {
      "image/png": "[encoded data removed]",
      "text/plain": [
       "<Figure size 500x400 with 2 Axes>"
      ]
     },
     "metadata": {},
     "output_type": "display_data"
    },
    {
     "name": "stdout",
     "output_type": "stream",
     "text": [
      "Classification Report for Random Forest (RF):\n",
      "               precision    recall  f1-score   support\n",
      "\n",
      "           0       0.99      0.99      0.99       430\n",
      "           1       1.00      0.99      0.99       241\n",
      "           2       1.00      1.00      1.00       613\n",
      "\n",
      "    accuracy                           0.99      1284\n",
      "   macro avg       0.99      0.99      0.99      1284\n",
      "weighted avg       0.99      0.99      0.99      1284\n",
      "\n"
     ]
    },
    {
     "data": {
      "image/png": "[encoded data removed]",
      "text/plain": [
       "<Figure size 500x400 with 2 Axes>"
      ]
     },
     "metadata": {},
     "output_type": "display_data"
    },
    {
     "name": "stdout",
     "output_type": "stream",
     "text": [
      "Classification Report for Support Vector Machine (SVM):\n",
      "               precision    recall  f1-score   support\n",
      "\n",
      "           0       0.95      0.97      0.96       430\n",
      "           1       0.97      0.98      0.98       241\n",
      "           2       0.99      0.96      0.98       613\n",
      "\n",
      "    accuracy                           0.97      1284\n",
      "   macro avg       0.97      0.97      0.97      1284\n",
      "weighted avg       0.97      0.97      0.97      1284\n",
      "\n"
     ]
    },
    {
     "data": {
      "image/png": "[encoded data removed]",
      "text/plain": [
       "<Figure size 500x400 with 2 Axes>"
      ]
     },
     "metadata": {},
     "output_type": "display_data"
    },
    {
     "name": "stdout",
     "output_type": "stream",
     "text": [
      "Classification Report for Naive Bayes (NB):\n",
      "               precision    recall  f1-score   support\n",
      "\n",
      "           0       0.84      0.87      0.86       430\n",
      "           1       0.82      0.93      0.88       241\n",
      "           2       0.95      0.88      0.91       613\n",
      "\n",
      "    accuracy                           0.89      1284\n",
      "   macro avg       0.87      0.89      0.88      1284\n",
      "weighted avg       0.89      0.89      0.89      1284\n",
      "\n"
     ]
    },
    {
     "data": {
      "text/html": [
       "<div>\n",
       "<style scoped>\n",
       "    .dataframe tbody tr th:only-of-type {\n",
       "        vertical-align: middle;\n",
       "    }\n",
       "\n",
       "    .dataframe tbody tr th {\n",
       "        vertical-align: top;\n",
       "    }\n",
       "\n",
       "    .dataframe thead th {\n",
       "        text-align: right;\n",
       "    }\n",
       "</style>\n",
       "<table border=\"1\" class=\"dataframe\">\n",
       "  <thead>\n",
       "    <tr style=\"text-align: right;\">\n",
       "      <th></th>\n",
       "      <th>Model</th>\n",
       "      <th>Accuracy</th>\n",
       "      <th>Precision</th>\n",
       "      <th>Recall</th>\n",
       "      <th>F1-Score</th>\n",
       "    </tr>\n",
       "  </thead>\n",
       "  <tbody>\n",
       "    <tr>\n",
       "      <th>0</th>\n",
       "      <td>K-Nearest Neighbors (KNN)</td>\n",
       "      <td>0.991433</td>\n",
       "      <td>0.991459</td>\n",
       "      <td>0.991433</td>\n",
       "      <td>0.991440</td>\n",
       "    </tr>\n",
       "    <tr>\n",
       "      <th>1</th>\n",
       "      <td>Decision Tree (DT)</td>\n",
       "      <td>0.994548</td>\n",
       "      <td>0.994553</td>\n",
       "      <td>0.994548</td>\n",
       "      <td>0.994550</td>\n",
       "    </tr>\n",
       "    <tr>\n",
       "      <th>2</th>\n",
       "      <td>Random Forest (RF)</td>\n",
       "      <td>0.993769</td>\n",
       "      <td>0.993770</td>\n",
       "      <td>0.993769</td>\n",
       "      <td>0.993769</td>\n",
       "    </tr>\n",
       "    <tr>\n",
       "      <th>3</th>\n",
       "      <td>Support Vector Machine (SVM)</td>\n",
       "      <td>0.971184</td>\n",
       "      <td>0.971674</td>\n",
       "      <td>0.971184</td>\n",
       "      <td>0.971269</td>\n",
       "    </tr>\n",
       "    <tr>\n",
       "      <th>4</th>\n",
       "      <td>Naive Bayes (NB)</td>\n",
       "      <td>0.885514</td>\n",
       "      <td>0.889858</td>\n",
       "      <td>0.885514</td>\n",
       "      <td>0.886270</td>\n",
       "    </tr>\n",
       "  </tbody>\n",
       "</table>\n",
       "</div>"
      ],
      "text/plain": [
       "                          Model  Accuracy  Precision    Recall  F1-Score\n",
       "0     K-Nearest Neighbors (KNN)  0.991433   0.991459  0.991433  0.991440\n",
       "1            Decision Tree (DT)  0.994548   0.994553  0.994548  0.994550\n",
       "2            Random Forest (RF)  0.993769   0.993770  0.993769  0.993769\n",
       "3  Support Vector Machine (SVM)  0.971184   0.971674  0.971184  0.971269\n",
       "4              Naive Bayes (NB)  0.885514   0.889858  0.885514  0.886270"
      ]
     },
     "metadata": {},
     "output_type": "display_data"
    }
   ],
   "source": [
    "from sklearn.metrics import confusion_matrix, classification_report, accuracy_score, precision_score, recall_score, f1_score\n",
    "def plot_confusion_matrix(model, X_test, y_test, model_name):\n",
    "    y_pred = model.predict(X_test) \n",
    "    cm = confusion_matrix(y_test, y_pred) \n",
    "\n",
    "    plt.figure(figsize=(5, 4))\n",
    "    sns.heatmap(cm, annot=True, fmt=\"d\", cmap=\"Blues\", xticklabels=[0, 1], yticklabels=[0, 1])\n",
    "    plt.xlabel(\"Predicted\")\n",
    "    plt.ylabel(\"Actual\")\n",
    "    plt.title(f\"Confusion Matrix - {model_name}\")\n",
    "    plt.show()\n",
    "    print(f\"Classification Report for {model_name}:\\n\", classification_report(y_test, y_pred))\n",
    "\n",
    "def evaluate_model(model, X_test, y_test):\n",
    "    y_pred = model.predict(X_test)\n",
    "    cm = confusion_matrix(y_test, y_pred)\n",
    "\n",
    "    if cm.shape == (2, 2):\n",
    "        tn, fp, fn, tp = cm.ravel()\n",
    "    else:\n",
    "        tn = fp = fn = tp = None  \n",
    "    \n",
    "    results = {\n",
    "        'Confusion Matrix': cm,\n",
    "        'True Positive (TP)': tp,\n",
    "        'False Positive (FP)': fp,\n",
    "        'False Negative (FN)': fn,\n",
    "        'True Negative (TN)': tn,\n",
    "        'Accuracy': accuracy_score(y_test, y_pred),\n",
    "        'Precision': precision_score(y_test, y_pred, average='weighted', zero_division=0), \n",
    "        'Recall': recall_score(y_test, y_pred, average='weighted', zero_division=0),\n",
    "        'F1-Score': f1_score(y_test, y_pred, average='weighted', zero_division=0)\n",
    "    }\n",
    "    return results\n",
    "\n",
    "models = {\n",
    "    \"K-Nearest Neighbors (KNN)\": knn,\n",
    "    \"Decision Tree (DT)\": dt,\n",
    "    \"Random Forest (RF)\": rf,\n",
    "    \"Support Vector Machine (SVM)\": svm,\n",
    "    \"Naive Bayes (NB)\": nb\n",
    "}\n",
    "\n",
    "for name, model in models.items():\n",
    "    plot_confusion_matrix(model, X_test, y_test, name)\n",
    "\n",
    "results = {name: evaluate_model(model, X_test, y_test) for name, model in models.items()}\n",
    "\n",
    "summary_df = pd.DataFrame([\n",
    "    {\n",
    "        'Model': model_name,\n",
    "        'Accuracy': metrics['Accuracy'],\n",
    "        'Precision': metrics['Precision'],\n",
    "        'Recall': metrics['Recall'],\n",
    "        'F1-Score': metrics['F1-Score']\n",
    "    }\n",
    "    for model_name, metrics in results.items()\n",
    "])\n",
    "\n",
    "display(summary_df)"
   ]
  },
  {
   "cell_type": "markdown",
   "metadata": {},
   "source": [
    "## **c. Analisis Hasil Evaluasi Model Klasifikasi**"
   ]
  },
  {
   "cell_type": "markdown",
   "metadata": {},
   "source": [
    "1. K-Nearest Neighbors (KKN) \n",
    "    - memiliki akurasi sebesar 99.14% dengan precision, recall dan F1-score yang sama 99.14%. Karena jumlah false positive (FP) dan false negative (FN) hampir nol yang berarti model ini memiliki keseimbangan sangat baik antara mendeteksi kelas positif dan menghindari kesalahan prediksi. \n",
    "    - Model tidak mengalami overfitting\n",
    "\n",
    "2. Decision Tree (DT)\n",
    "    - memiliki akurasi sebesar 99.45% dengan precision, recall, dan F1-Score yang sama 99.45%. Karena jumlah false positive (FP) dan false negative (FN) hampir nol yang berarti model ini memiliki keseimbangan sangat baik antara mendeteksi kelas positif dan menghindari kesalahan prediksi.\n",
    "    - Model ini tidak mengalami overfitting.\n",
    "\n",
    "3. Random Forest (RF) \n",
    "    - memiliki akurasi paling tinggi 99.37% dengan precision, recall, dan F1-Score yang sama 99.37%. Karena jumlah false positive (FP) dan false negative (FN) hampir nol yang berarti model ini memiliki keseimbangan sangat baik antara mendeteksi kelas positif dan menghindari kesalahan prediksi.\n",
    "    - Model ini tidak mengalami overfitting\n",
    "\n",
    "4. Support Vector Machine (SVM)\n",
    "    - memiliki akurasi 97.11% dengan precision 97.16%, recall 97.11%, dan F1-Score 97.12%. Precision yang tinggi menunjukkan bahwa model ini baik dalam menghindari false positives. Namun, dibandingkan dengan model lain, akurasi dan recall SVM sedikit lebih rendah, yang menunjukkan bahwa model ini masih memiliki beberapa kesalahan dalam mengklasifikasikan data positif.\n",
    "    - Model ini tidak mengalami overfitting, tapi performanya lebih rendah dari model lainnya\n",
    "\n",
    "5. Naive Bayes (NB)\n",
    "    -  memiliki akurasi 88.55% dengan precision 88.98%, recall 88.55%, dan F1-Score 88.62%. Precision yang lebih rendah dari model lainnya menunjukkan bahwa model ini tidak efektif dalam menghindari false positives. Recall yang lebih rendah dibanding model lain menunjukkan bahwa Naive Bayes mungkin masih melewatkan beberapa data positif. Model ini bekerja dengan mengira fitur-fitur bersifat independen, yang tidak sesuai dengan dataset yang digunakan, sehingga bisa menyebabkan keterbatasan dalam performa.\n",
    "    - Model ini kemungkinan mengalami underfitting, karena model ini sangat bergantung pada asumsi independesi fitur yang tidak sesuai dengan data.\n",
    "\n",
    "**Kesimpulan**\n",
    "- Random Forest menjadi model dengan performa sangat baik karena memberikan akurasi tinggi dengan akurasi tertinggi dan keseimbangan precision serta recall yang sempurna serta lebih tahan terhadap overfitting.\n",
    "- Decision Tree dan KNN juga memiliki performa tinggi. Tetapi biasanya rentan terhadap overfitting\n",
    "- SVM memiliki performa cukup baik, tetapi lebih rendah dibandingkan model lainnya.\n",
    "- Naive Bayes memiliki performa paling rendah, karena mengalami underfitting yang kemungkinan besar disebabkan oleh asumsi independensi fitur yang tidak sesuai dengan dataset.\n",
    "\n",
    "**Rekomendasi Tindakan Lanjutan**\n",
    "1. Jika ingin meningkatkan generalisasi model:\n",
    "    - Untuk Decision Tree dan Random Forest, coba lakukan pruning atau pengurangan jumlah trees untuk mengurangi overfitting.\n",
    "    - Cross-validation bisa digunakan untuk memastikan model tidak hanya bekerja baik di data training.\n",
    "2. Jika ingin meningkatkan performa recall untuk kelas tertentu:\n",
    "    - Pada model Naive Bayes memiliki recall rendah pada kelas positif, coba tambahkan fitur baru atau menggunakan teknik feature engineering.\n",
    "    - Pada model SVM memiliki recall yang cukup rendah, bisa dicoba dengan hyperparameter tuning (misalnya, kernel yang berbeda atau penyesuaian parameter C dan gamma).\n",
    "3. Jika ingin meningkatkan akurasi secara keseluruhan:\n",
    "    - Coba metode ensemble lain seperti Boosting (XGBoost, AdaBoost) yang sering lebih baik dalam mengurangi bias dan meningkatkan akurasi.\n",
    "    - Menambahkan lebih banyak data.\n",
    "4. Jika ingin efisiensi waktu dan penggunaan resource:\n",
    "    - Random Forest dan Decision Tree mungkin terlalu kompleks untuk dataset besar. Coba model yang lebih ringan seperti Logistic Regression atau SVM dengan parameter yang lebih optimal.\n",
    "\n",
    "Jika ingin model yang lebih ringan dengan akurasi tetap tinggi, model KNN atau Decision Tree dengan pruning dapat menjadi pilihan."
   ]
  },
  {
   "cell_type": "markdown",
   "metadata": {},
   "source": [
    "# **5. Mengeksport Data**"
   ]
  },
  {
   "cell_type": "code",
   "execution_count": 216,
   "metadata": {},
   "outputs": [],
   "source": [
    "df.to_csv('Dataset_inisiasi.csv', index=False)"
   ]
  }
 ],
 "metadata": {
  "kernelspec": {
   "display_name": "env_clustering",
   "language": "python",
   "name": "python3"
  },
  "language_info": {
   "codemirror_mode": {
    "name": "ipython",
    "version": 3
   },
   "file_extension": ".py",
   "mimetype": "text/x-python",
   "name": "python",
   "nbconvert_exporter": "python",
   "pygments_lexer": "ipython3",
   "version": "3.13.1"
  }
 },
 "nbformat": 4,
 "nbformat_minor": 2
}
