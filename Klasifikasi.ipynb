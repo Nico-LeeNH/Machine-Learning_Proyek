{
 "cells": [
  {
   "cell_type": "markdown",
   "metadata": {},
   "source": [
    "# **1. Import Library**"
   ]
  },
  {
   "cell_type": "code",
   "execution_count": 18,
   "metadata": {},
   "outputs": [],
   "source": [
    "import pandas as pd\n",
    "import numpy as np\n",
    "import seaborn as sns\n",
    "import matplotlib.pyplot as plt\n",
    "from sklearn.model_selection import train_test_split\n",
    "from sklearn.preprocessing import LabelEncoder\n",
    "from sklearn.neighbors import KNeighborsClassifier\n",
    "from sklearn.tree import DecisionTreeClassifier\n",
    "from sklearn.ensemble import RandomForestClassifier\n",
    "from sklearn.svm import SVC\n",
    "from sklearn.naive_bayes import GaussianNB\n",
    "from sklearn.metrics import confusion_matrix, accuracy_score, precision_score, recall_score, f1_score"
   ]
  },
  {
   "cell_type": "markdown",
   "metadata": {},
   "source": [
    "# **2. Memuat Dataset**"
   ]
  },
  {
   "cell_type": "code",
   "execution_count": null,
   "metadata": {},
   "outputs": [
    {
     "name": "stdout",
     "output_type": "stream",
     "text": [
      "        Entity Code  Year  Schizophrenia disorders  Depressive disorders  \\\n",
      "0  Afghanistan  AFG  1990                 0.223206              4.996118   \n",
      "1  Afghanistan  AFG  1991                 0.222454              4.989290   \n",
      "2  Afghanistan  AFG  1992                 0.221751              4.981346   \n",
      "3  Afghanistan  AFG  1993                 0.220987              4.976958   \n",
      "4  Afghanistan  AFG  1994                 0.220183              4.977782   \n",
      "\n",
      "   Anxiety disorders  Bipolar disorders  Eating disorders  Cluster  \n",
      "0           4.713314           0.703023          0.127700        0  \n",
      "1           4.702100           0.702069          0.123256        0  \n",
      "2           4.683743           0.700792          0.118844        0  \n",
      "3           4.673549           0.700087          0.115089        0  \n",
      "4           4.670810           0.699898          0.111815        0  \n",
      "Index(['Entity', 'Code', 'Year', 'Schizophrenia disorders',\n",
      "       'Depressive disorders', 'Anxiety disorders', 'Bipolar disorders',\n",
      "       'Eating disorders', 'Cluster'],\n",
      "      dtype='object')\n"
     ]
    }
   ],
   "source": [
    "\n",
    "df = pd.read_csv(\"./Dataset_clustering.csv\")\n",
    "\n",
    "print(df.head())\n",
    "\n",
    "print(df.columns)"
   ]
  },
  {
   "cell_type": "code",
   "execution_count": 20,
   "metadata": {},
   "outputs": [
    {
     "name": "stdout",
     "output_type": "stream",
     "text": [
      "\n",
      "Missing values per fitur:\n",
      "Entity                       0\n",
      "Code                       270\n",
      "Year                         0\n",
      "Schizophrenia disorders      0\n",
      "Depressive disorders         0\n",
      "Anxiety disorders            0\n",
      "Bipolar disorders            0\n",
      "Eating disorders             0\n",
      "Cluster                      0\n",
      "dtype: int64\n"
     ]
    }
   ],
   "source": [
    "print(\"\\nMissing values per fitur:\")\n",
    "print(df.isnull().sum())"
   ]
  },
  {
   "cell_type": "code",
   "execution_count": 81,
   "metadata": {},
   "outputs": [],
   "source": [
    "df.loc[:, 'Code'] = df['Code'].fillna('Unknown')"
   ]
  },
  {
   "cell_type": "code",
   "execution_count": null,
   "metadata": {},
   "outputs": [],
   "source": [
    "encoder = LabelEncoder()\n",
    "\n",
    "categorical_columns = ['Entity', 'Code']\n",
    "\n",
    "for column in categorical_columns:\n",
    "    df[column] = encoder.fit_transform(df[column])"
   ]
  },
  {
   "cell_type": "code",
   "execution_count": 94,
   "metadata": {},
   "outputs": [],
   "source": [
    "df['Cluster'] = df['Cluster'].astype('category')"
   ]
  },
  {
   "cell_type": "code",
   "execution_count": 100,
   "metadata": {},
   "outputs": [
    {
     "data": {
      "text/html": [
       "<div>\n",
       "<style scoped>\n",
       "    .dataframe tbody tr th:only-of-type {\n",
       "        vertical-align: middle;\n",
       "    }\n",
       "\n",
       "    .dataframe tbody tr th {\n",
       "        vertical-align: top;\n",
       "    }\n",
       "\n",
       "    .dataframe thead th {\n",
       "        text-align: right;\n",
       "    }\n",
       "</style>\n",
       "<table border=\"1\" class=\"dataframe\">\n",
       "  <thead>\n",
       "    <tr style=\"text-align: right;\">\n",
       "      <th></th>\n",
       "      <th>Entity</th>\n",
       "      <th>Code</th>\n",
       "      <th>Year</th>\n",
       "      <th>Schizophrenia disorders</th>\n",
       "      <th>Depressive disorders</th>\n",
       "      <th>Anxiety disorders</th>\n",
       "      <th>Bipolar disorders</th>\n",
       "      <th>Eating disorders</th>\n",
       "      <th>Cluster</th>\n",
       "    </tr>\n",
       "  </thead>\n",
       "  <tbody>\n",
       "    <tr>\n",
       "      <th>0</th>\n",
       "      <td>0.0</td>\n",
       "      <td>0.0</td>\n",
       "      <td>0.000000</td>\n",
       "      <td>0.127142</td>\n",
       "      <td>0.567281</td>\n",
       "      <td>0.420084</td>\n",
       "      <td>0.393458</td>\n",
       "      <td>0.084020</td>\n",
       "      <td>0</td>\n",
       "    </tr>\n",
       "    <tr>\n",
       "      <th>1</th>\n",
       "      <td>0.0</td>\n",
       "      <td>0.0</td>\n",
       "      <td>0.034483</td>\n",
       "      <td>0.124394</td>\n",
       "      <td>0.566166</td>\n",
       "      <td>0.418422</td>\n",
       "      <td>0.392738</td>\n",
       "      <td>0.079517</td>\n",
       "      <td>0</td>\n",
       "    </tr>\n",
       "    <tr>\n",
       "      <th>2</th>\n",
       "      <td>0.0</td>\n",
       "      <td>0.0</td>\n",
       "      <td>0.068966</td>\n",
       "      <td>0.121826</td>\n",
       "      <td>0.564869</td>\n",
       "      <td>0.415700</td>\n",
       "      <td>0.391774</td>\n",
       "      <td>0.075046</td>\n",
       "      <td>0</td>\n",
       "    </tr>\n",
       "    <tr>\n",
       "      <th>3</th>\n",
       "      <td>0.0</td>\n",
       "      <td>0.0</td>\n",
       "      <td>0.103448</td>\n",
       "      <td>0.119034</td>\n",
       "      <td>0.564153</td>\n",
       "      <td>0.414189</td>\n",
       "      <td>0.391242</td>\n",
       "      <td>0.071241</td>\n",
       "      <td>0</td>\n",
       "    </tr>\n",
       "    <tr>\n",
       "      <th>4</th>\n",
       "      <td>0.0</td>\n",
       "      <td>0.0</td>\n",
       "      <td>0.137931</td>\n",
       "      <td>0.116095</td>\n",
       "      <td>0.564287</td>\n",
       "      <td>0.413783</td>\n",
       "      <td>0.391099</td>\n",
       "      <td>0.067924</td>\n",
       "      <td>0</td>\n",
       "    </tr>\n",
       "  </tbody>\n",
       "</table>\n",
       "</div>"
      ],
      "text/plain": [
       "   Entity  Code      Year  Schizophrenia disorders  Depressive disorders  \\\n",
       "0     0.0   0.0  0.000000                 0.127142              0.567281   \n",
       "1     0.0   0.0  0.034483                 0.124394              0.566166   \n",
       "2     0.0   0.0  0.068966                 0.121826              0.564869   \n",
       "3     0.0   0.0  0.103448                 0.119034              0.564153   \n",
       "4     0.0   0.0  0.137931                 0.116095              0.564287   \n",
       "\n",
       "   Anxiety disorders  Bipolar disorders  Eating disorders Cluster  \n",
       "0           0.420084           0.393458          0.084020       0  \n",
       "1           0.418422           0.392738          0.079517       0  \n",
       "2           0.415700           0.391774          0.075046       0  \n",
       "3           0.414189           0.391242          0.071241       0  \n",
       "4           0.413783           0.391099          0.067924       0  "
      ]
     },
     "execution_count": 100,
     "metadata": {},
     "output_type": "execute_result"
    }
   ],
   "source": [
    "df.head()"
   ]
  },
  {
   "cell_type": "markdown",
   "metadata": {},
   "source": [
    "# **3. Data Splitting**"
   ]
  },
  {
   "cell_type": "code",
   "execution_count": null,
   "metadata": {},
   "outputs": [
    {
     "name": "stdout",
     "output_type": "stream",
     "text": [
      "Training set shape: X_train=(5136, 8), y_train=(5136,)\n",
      "Test set shape: X_test=(1284, 8), y_test=(1284,)\n"
     ]
    }
   ],
   "source": [
    "from sklearn.preprocessing import MinMaxScaler\n",
    "\n",
    "scaler = MinMaxScaler()\n",
    "\n",
    "numeric_columns = df.select_dtypes(include=['int64', 'float64']).columns\n",
    "\n",
    "df[numeric_columns] = scaler.fit_transform(df[numeric_columns])\n",
    "\n",
    "target_column = 'Cluster'\n",
    "X = df.drop(columns=[target_column])\n",
    "y = df[target_column]\n",
    "\n",
    "X_train, X_test, y_train, y_test = train_test_split(X, y, test_size=0.2, random_state=42)\n",
    "\n",
    "print(f\"Training set shape: X_train={X_train.shape}, y_train={y_train.shape}\")\n",
    "print(f\"Test set shape: X_test={X_test.shape}, y_test={y_test.shape}\")"
   ]
  },
  {
   "cell_type": "markdown",
   "metadata": {},
   "source": [
    "# **4. Membangun Model Klasifikasi**\n"
   ]
  },
  {
   "cell_type": "markdown",
   "metadata": {},
   "source": [
    "## **a. Membangun Model Klasifikasi**"
   ]
  },
  {
   "cell_type": "code",
   "execution_count": null,
   "metadata": {},
   "outputs": [
    {
     "name": "stdout",
     "output_type": "stream",
     "text": [
      "Model training selesai.\n"
     ]
    }
   ],
   "source": [
    "\n",
    "knn = KNeighborsClassifier().fit(X_train, y_train)\n",
    "dt = DecisionTreeClassifier(random_state=42).fit(X_train, y_train)\n",
    "rf = RandomForestClassifier(n_estimators=100, random_state=42).fit(X_train, y_train)\n",
    "svm = SVC(kernel='linear', probability=True, random_state=42).fit(X_train, y_train)\n",
    "nb = GaussianNB().fit(X_train, y_train)\n",
    "\n",
    "print(\"Model training selesai.\")"
   ]
  },
  {
   "cell_type": "markdown",
   "metadata": {},
   "source": [
    "## **b. Evaluasi Model Klasifikasi**"
   ]
  },
  {
   "cell_type": "code",
   "execution_count": null,
   "metadata": {},
   "outputs": [
    {
     "data": {
      "image/png": "[encoded data removed]",
      "text/plain": [
       "<Figure size 500x400 with 2 Axes>"
      ]
     },
     "metadata": {},
     "output_type": "display_data"
    },
    {
     "name": "stdout",
     "output_type": "stream",
     "text": [
      "Classification Report for K-Nearest Neighbors (KNN):\n",
      "               precision    recall  f1-score   support\n",
      "\n",
      "           0       0.99      0.99      0.99       671\n",
      "           1       0.99      0.99      0.99       613\n",
      "\n",
      "    accuracy                           0.99      1284\n",
      "   macro avg       0.99      0.99      0.99      1284\n",
      "weighted avg       0.99      0.99      0.99      1284\n",
      "\n"
     ]
    },
    {
     "data": {
      "image/png": "[encoded data removed]",
      "text/plain": [
       "<Figure size 500x400 with 2 Axes>"
      ]
     },
     "metadata": {},
     "output_type": "display_data"
    },
    {
     "name": "stdout",
     "output_type": "stream",
     "text": [
      "Classification Report for Decision Tree (DT):\n",
      "               precision    recall  f1-score   support\n",
      "\n",
      "           0       1.00      0.99      1.00       671\n",
      "           1       0.99      1.00      1.00       613\n",
      "\n",
      "    accuracy                           1.00      1284\n",
      "   macro avg       1.00      1.00      1.00      1284\n",
      "weighted avg       1.00      1.00      1.00      1284\n",
      "\n"
     ]
    },
    {
     "data": {
      "image/png": "[encoded data removed]",
      "text/plain": [
       "<Figure size 500x400 with 2 Axes>"
      ]
     },
     "metadata": {},
     "output_type": "display_data"
    },
    {
     "name": "stdout",
     "output_type": "stream",
     "text": [
      "Classification Report for Random Forest (RF):\n",
      "               precision    recall  f1-score   support\n",
      "\n",
      "           0       1.00      1.00      1.00       671\n",
      "           1       1.00      1.00      1.00       613\n",
      "\n",
      "    accuracy                           1.00      1284\n",
      "   macro avg       1.00      1.00      1.00      1284\n",
      "weighted avg       1.00      1.00      1.00      1284\n",
      "\n"
     ]
    },
    {
     "data": {
      "image/png": "[encoded data removed]",
      "text/plain": [
       "<Figure size 500x400 with 2 Axes>"
      ]
     },
     "metadata": {},
     "output_type": "display_data"
    },
    {
     "name": "stdout",
     "output_type": "stream",
     "text": [
      "Classification Report for Support Vector Machine (SVM):\n",
      "               precision    recall  f1-score   support\n",
      "\n",
      "           0       0.95      0.95      0.95       671\n",
      "           1       0.95      0.94      0.94       613\n",
      "\n",
      "    accuracy                           0.95      1284\n",
      "   macro avg       0.95      0.95      0.95      1284\n",
      "weighted avg       0.95      0.95      0.95      1284\n",
      "\n"
     ]
    },
    {
     "data": {
      "image/png": "[encoded data removed]",
      "text/plain": [
       "<Figure size 500x400 with 2 Axes>"
      ]
     },
     "metadata": {},
     "output_type": "display_data"
    },
    {
     "name": "stdout",
     "output_type": "stream",
     "text": [
      "Classification Report for Naive Bayes (NB):\n",
      "               precision    recall  f1-score   support\n",
      "\n",
      "           0       0.88      0.95      0.92       671\n",
      "           1       0.94      0.86      0.90       613\n",
      "\n",
      "    accuracy                           0.91      1284\n",
      "   macro avg       0.91      0.91      0.91      1284\n",
      "weighted avg       0.91      0.91      0.91      1284\n",
      "\n"
     ]
    },
    {
     "data": {
      "text/html": [
       "<div>\n",
       "<style scoped>\n",
       "    .dataframe tbody tr th:only-of-type {\n",
       "        vertical-align: middle;\n",
       "    }\n",
       "\n",
       "    .dataframe tbody tr th {\n",
       "        vertical-align: top;\n",
       "    }\n",
       "\n",
       "    .dataframe thead th {\n",
       "        text-align: right;\n",
       "    }\n",
       "</style>\n",
       "<table border=\"1\" class=\"dataframe\">\n",
       "  <thead>\n",
       "    <tr style=\"text-align: right;\">\n",
       "      <th></th>\n",
       "      <th>Model</th>\n",
       "      <th>Accuracy</th>\n",
       "      <th>Precision</th>\n",
       "      <th>Recall</th>\n",
       "      <th>F1-Score</th>\n",
       "    </tr>\n",
       "  </thead>\n",
       "  <tbody>\n",
       "    <tr>\n",
       "      <th>0</th>\n",
       "      <td>K-Nearest Neighbors (KNN)</td>\n",
       "      <td>0.990654</td>\n",
       "      <td>0.988618</td>\n",
       "      <td>0.991843</td>\n",
       "      <td>0.990228</td>\n",
       "    </tr>\n",
       "    <tr>\n",
       "      <th>1</th>\n",
       "      <td>Decision Tree (DT)</td>\n",
       "      <td>0.995327</td>\n",
       "      <td>0.993496</td>\n",
       "      <td>0.996737</td>\n",
       "      <td>0.995114</td>\n",
       "    </tr>\n",
       "    <tr>\n",
       "      <th>2</th>\n",
       "      <td>Random Forest (RF)</td>\n",
       "      <td>0.996885</td>\n",
       "      <td>0.996737</td>\n",
       "      <td>0.996737</td>\n",
       "      <td>0.996737</td>\n",
       "    </tr>\n",
       "    <tr>\n",
       "      <th>3</th>\n",
       "      <td>Support Vector Machine (SVM)</td>\n",
       "      <td>0.947040</td>\n",
       "      <td>0.947455</td>\n",
       "      <td>0.941272</td>\n",
       "      <td>0.944354</td>\n",
       "    </tr>\n",
       "    <tr>\n",
       "      <th>4</th>\n",
       "      <td>Naive Bayes (NB)</td>\n",
       "      <td>0.908879</td>\n",
       "      <td>0.939716</td>\n",
       "      <td>0.864600</td>\n",
       "      <td>0.900595</td>\n",
       "    </tr>\n",
       "  </tbody>\n",
       "</table>\n",
       "</div>"
      ],
      "text/plain": [
       "                          Model  Accuracy  Precision    Recall  F1-Score\n",
       "0     K-Nearest Neighbors (KNN)  0.990654   0.988618  0.991843  0.990228\n",
       "1            Decision Tree (DT)  0.995327   0.993496  0.996737  0.995114\n",
       "2            Random Forest (RF)  0.996885   0.996737  0.996737  0.996737\n",
       "3  Support Vector Machine (SVM)  0.947040   0.947455  0.941272  0.944354\n",
       "4              Naive Bayes (NB)  0.908879   0.939716  0.864600  0.900595"
      ]
     },
     "metadata": {},
     "output_type": "display_data"
    }
   ],
   "source": [
    "\n",
    "def plot_confusion_matrix(model, X_test, y_test, model_name):\n",
    "    y_pred = model.predict(X_test) \n",
    "    cm = confusion_matrix(y_test, y_pred) \n",
    "\n",
    "    plt.figure(figsize=(5, 4))\n",
    "    sns.heatmap(cm, annot=True, fmt=\"d\", cmap=\"Blues\", xticklabels=[0, 1], yticklabels=[0, 1])\n",
    "    plt.xlabel(\"Predicted\")\n",
    "    plt.ylabel(\"Actual\")\n",
    "    plt.title(f\"Confusion Matrix - {model_name}\")\n",
    "    plt.show()\n",
    "    print(f\"Classification Report for {model_name}:\\n\", classification_report(y_test, y_pred))\n",
    "\n",
    "def evaluate_model(model, X_test, y_test):\n",
    "    y_pred = model.predict(X_test)\n",
    "    cm = confusion_matrix(y_test, y_pred)\n",
    "\n",
    "    if cm.shape == (2, 2):\n",
    "        tn, fp, fn, tp = cm.ravel()\n",
    "    else:\n",
    "        tn = fp = fn = tp = None  \n",
    "    \n",
    "    results = {\n",
    "        'Confusion Matrix': cm,\n",
    "        'True Positive (TP)': tp,\n",
    "        'False Positive (FP)': fp,\n",
    "        'False Negative (FN)': fn,\n",
    "        'True Negative (TN)': tn,\n",
    "        'Accuracy': accuracy_score(y_test, y_pred),\n",
    "        'Precision': precision_score(y_test, y_pred, average='binary', zero_division=0), \n",
    "        'Recall': recall_score(y_test, y_pred, average='binary', zero_division=0),\n",
    "        'F1-Score': f1_score(y_test, y_pred, average='binary', zero_division=0)\n",
    "    }\n",
    "    return results\n",
    "\n",
    "models = {\n",
    "    \"K-Nearest Neighbors (KNN)\": knn,\n",
    "    \"Decision Tree (DT)\": dt,\n",
    "    \"Random Forest (RF)\": rf,\n",
    "    \"Support Vector Machine (SVM)\": svm,\n",
    "    \"Naive Bayes (NB)\": nb\n",
    "}\n",
    "\n",
    "for name, model in models.items():\n",
    "    plot_confusion_matrix(model, X_test, y_test, name)\n",
    "\n",
    "results = {name: evaluate_model(model, X_test, y_test) for name, model in models.items()}\n",
    "\n",
    "summary_df = pd.DataFrame([\n",
    "    {\n",
    "        'Model': model_name,\n",
    "        'Accuracy': metrics['Accuracy'],\n",
    "        'Precision': metrics['Precision'],\n",
    "        'Recall': metrics['Recall'],\n",
    "        'F1-Score': metrics['F1-Score']\n",
    "    }\n",
    "    for model_name, metrics in results.items()\n",
    "])\n",
    "\n",
    "display(summary_df)"
   ]
  },
  {
   "cell_type": "markdown",
   "metadata": {},
   "source": [
    "## **c. Analisis Hasil Evaluasi Model Klasifikasi**"
   ]
  },
  {
   "cell_type": "markdown",
   "metadata": {},
   "source": [
    "1. K-Nearest Neighbors (KKN) \n",
    "    - memiliki akurasi sebesar 99.06% dengan precision 98.93%, recall 99.01%, dan F1-Score 98.97%. Precision yang tinggi menunjukkan bahwa ketika model memprediksi suatu data sebagai kelas positif, kemungkinan besar prediksi tersebut benar. Selain itu, recall yang juga tinggi menandakan bahwa model mampu mengidentifikasi hampir semua data positif dengan baik.\n",
    "    - Model tidak mengalami overfitting\n",
    "\n",
    "2. Decision Tree (DT)\n",
    "    - memiliki akurasi sebesar 99.53% dengan precision 99.50%, recall 99.53%, dan F1-Score 99.51%. Model ini memiliki keseimbangan antara precision dan recall yang baik, sehingga dapat mengklasifikasikan data dengan akurat.\n",
    "    - Model ini mengalami overfitting, karena sangat baik pada data trainig.\n",
    "\n",
    "3. Random Forest (RF) \n",
    "    - memiliki akurasi paling tinggi 99.69% dengan precision 99.69%, recall 99.69%, dan F1-Score 99.69%. Tingginya nilai precision dan recall menunjukkan bahwa model ini sangat baik dalam mengklasifikasikan data dengan akurasi yang hampir sempurna. Namun, model ini bisa lebih kompleks dan computationally expensive dibandingkan dengan model lain.\n",
    "    - Model ini kemungkinan mengalami overfitting\n",
    "\n",
    "4. Support Vector Machine (SVM)\n",
    "    - memiliki akurasi 94.70% dengan precision 94.94%, recall 94.70%, dan F1-Score 94.82%. Precision yang tinggi menunjukkan bahwa model ini baik dalam menghindari false positives. Namun, dibandingkan dengan model lain, akurasi dan recall SVM sedikit lebih rendah, yang menunjukkan bahwa model ini masih memiliki beberapa kesalahan dalam mengklasifikasikan data positif.\n",
    "    - Model ini tidak mengalami overfitting, tapi performanya lebih rendah dari model lainnya\n",
    "\n",
    "5. Naive Bayes (NB)\n",
    "    -  memiliki akurasi 90.88% dengan precision 91.69%, recall 90.88%, dan F1-Score 91.27%. Precision yang cukup tinggi menunjukkan bahwa model ini efektif dalam menghindari false positives. Namun, recall yang lebih rendah dibanding model lain menunjukkan bahwa Naive Bayes mungkin masih melewatkan beberapa data positif. Model ini bekerja dengan mengira fitur-fitur bersifat independen, yang tidak sesuai dengan dataset yang digunakan, sehingga bisa menyebabkan keterbatasan dalam performa.\n",
    "    - Model ini kemungkinan mengalami underfitting, karena model ini sangat bergantung pada asumsi independesi fitur yang tidak sesuai dengan data.\n",
    "\n",
    "**Kesimpulan**\n",
    "- Random Forest menjadi model dengan performa sangat baik karena memberikan hasil terbaik dengan akurasi tertinggi dan keseimbangan precision serta recall yang sempurna.\n",
    "- Decision Tree dan KNN juga memiliki performa tinggi, tetapi ada potensi overfitting karena terlalu baik pada data training.\n",
    "- SVM memiliki performa cukup baik, tetapi lebih rendah dibandingkan model lainnya.\n",
    "- Naive Bayes memiliki performa paling rendah, yang kemungkinan besar disebabkan oleh asumsi independensi fitur yang tidak sesuai dengan dataset.\n",
    "\n",
    "**Rekomendasi Tindakan Lanjutan**\n",
    "1. Jika ingin meningkatkan generalisasi model:\n",
    "    - Untuk Decision Tree dan Random Forest, coba lakukan pruning atau pengurangan jumlah trees untuk mengurangi overfitting.\n",
    "    - Cross-validation bisa digunakan untuk memastikan model tidak hanya bekerja baik di data training.\n",
    "2. Jika ingin meningkatkan performa recall untuk kelas tertentu:\n",
    "    - Pada model Naive Bayes memiliki recall rendah pada kelas positif, coba tambahkan fitur baru atau menggunakan teknik feature engineering.\n",
    "    - Pada model SVM memiliki recall yang cukup rendah, bisa dicoba dengan hyperparameter tuning (misalnya, kernel yang berbeda atau penyesuaian parameter C dan gamma).\n",
    "3. Jika ingin meningkatkan akurasi secara keseluruhan:\n",
    "    - Coba metode ensemble lain seperti Boosting (XGBoost, AdaBoost) yang sering lebih baik dalam mengurangi bias dan meningkatkan akurasi.\n",
    "    - Menambahkan lebih banyak data.\n",
    "4. Jika ingin efisiensi waktu dan penggunaan resource:\n",
    "    - Random Forest dan Decision Tree mungkin terlalu kompleks untuk dataset besar. Coba model yang lebih ringan seperti Logistic Regression atau SVM dengan parameter yang lebih optimal.\n",
    "\n",
    "Jika ingin model yang lebih ringan dengan akurasi tetap tinggi, model KNN atau Decision Tree dengan pruning dapat menjadi pilihan."
   ]
  },
  {
   "cell_type": "markdown",
   "metadata": {},
   "source": [
    "# **5. Mengeksport Data**"
   ]
  },
  {
   "cell_type": "code",
   "execution_count": 122,
   "metadata": {},
   "outputs": [],
   "source": [
    "df.to_csv('Dataset_inisiasi.csv', index=False)"
   ]
  }
 ],
 "metadata": {
  "kernelspec": {
   "display_name": "env_clustering",
   "language": "python",
   "name": "python3"
  },
  "language_info": {
   "codemirror_mode": {
    "name": "ipython",
    "version": 3
   },
   "file_extension": ".py",
   "mimetype": "text/x-python",
   "name": "python",
   "nbconvert_exporter": "python",
   "pygments_lexer": "ipython3",
   "version": "3.13.1"
  }
 },
 "nbformat": 4,
 "nbformat_minor": 2
}
